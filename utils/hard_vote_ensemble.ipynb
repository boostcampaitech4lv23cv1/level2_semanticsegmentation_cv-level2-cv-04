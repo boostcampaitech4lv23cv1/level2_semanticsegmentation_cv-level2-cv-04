{
 "cells": [
  {
   "cell_type": "code",
   "execution_count": null,
   "metadata": {},
   "outputs": [],
   "source": [
    "import pandas as pd\n",
    "import numpy as np\n",
    "from tqdm import tqdm"
   ]
  },
  {
   "cell_type": "code",
   "execution_count": null,
   "metadata": {},
   "outputs": [],
   "source": [
    "ensemble_csvs = [\n",
    "    './mask2former_beit_adapter_large_640_27ecpoh_SH_7866.csv',\n",
    "    './train_full_upernet_beit_adapter_large_640_160k_ade20k__schdule_difflr_no_lossweight_2_epoch_5_HH_7851.csv',\n",
    "    './pseudo_upernet_beit_adapter_large_640_160k_ade20k_diff_4__epoch_5_HH_7836.csv',\n",
    "    './mask2former_beit_adapter_large_640_finetuning SOTA model_finetuning_SH_7791.csv',\n",
    "    './upernet_convnext_xlarge_fp16_epoch35_SH_7166.csv'\n",
    "]\n",
    "\n",
    "use_weights = False\n",
    "weights = [1, 1, 1, 1, 1]  #weights 리스트의 길이는 ensemble_csvs 리스트의 길이와 같아야 함\n",
    "\n",
    "dfs = [pd.read_csv(csv, index_col=False) for csv in ensemble_csvs]"
   ]
  },
  {
   "cell_type": "code",
   "execution_count": null,
   "metadata": {},
   "outputs": [],
   "source": [
    "for i in range(len(dfs)-1):\n",
    "    assert len(dfs[i]) == len(dfs[i+1]), '포맷이 다른 csv가 {} 번째에 존재'.format(i)\n",
    "\n",
    "\n",
    "def ensemble(dfs, use_weights, *args):\n",
    "    if use_weights:\n",
    "        weights = args[0]\n",
    "        loudness = np.argsort(np.array(weights))[::-1]\n",
    "        print(weights)\n",
    "        print(loudness)\n",
    "    else:\n",
    "        loudness = [1 for _ in range(len(dfs))]\n",
    "        \n",
    "    new_col = []\n",
    "    \n",
    "    for idx in tqdm(range(len(dfs[0]))):\n",
    "        preds = []\n",
    "        all_preds = []\n",
    "        for i, df in enumerate(dfs):\n",
    "            pred = df.iloc[idx, 1]\n",
    "            pred = np.array(list(map(int, pred.split(\" \"))), dtype = int).reshape((256,256,1))\n",
    "            all_preds.append(pred)\n",
    "            if use_weights:\n",
    "                for _ in range(weights[i]):\n",
    "                    preds.append(pred)\n",
    "            else:\n",
    "                preds.append(pred)\n",
    "                \n",
    "        concat_pred = preds[0]\n",
    "        for p in preds[1:]:\n",
    "            concat_pred = np.concatenate([concat_pred, p], axis = -1)\n",
    "        \n",
    "        new_pred = np.zeros(shape=(256,256), dtype=int)\n",
    "        for i in range(256):\n",
    "            for j in range(256):\n",
    "                count = np.bincount(concat_pred[i,j,:])\n",
    "                maxcount = max(count)\n",
    "                winners = np.argwhere(count == maxcount)\n",
    "                if len(winners) > 1:\n",
    "                    for l in loudness:\n",
    "                        if all_preds[l][i, j] in winners:\n",
    "                            winner = all_preds[l][i, j]\n",
    "                            break\n",
    "                else:\n",
    "                    winner = winners[0]\n",
    "                new_pred[i, j] = winner\n",
    "                    \n",
    "        new_col.append(' '.join(list(map(str, new_pred.flatten().tolist()))))\n",
    "        \n",
    "    \n",
    "    return new_col\n",
    "\n",
    "nc = ensemble(dfs, False)\n",
    "        "
   ]
  },
  {
   "cell_type": "code",
   "execution_count": null,
   "metadata": {},
   "outputs": [],
   "source": [
    "new_df = dfs[0].copy(deep=True)\n",
    "new_df = new_df.drop(columns='PredictionString')\n",
    "new_df['PredictionString'] = pd.Series(nc)"
   ]
  },
  {
   "cell_type": "code",
   "execution_count": null,
   "metadata": {},
   "outputs": [],
   "source": [
    "new_df.describe()"
   ]
  },
  {
   "cell_type": "code",
   "execution_count": null,
   "metadata": {},
   "outputs": [],
   "source": [
    "new_df.to_csv('./ensembled.csv', index=None)"
   ]
  }
 ],
 "metadata": {
  "kernelspec": {
   "display_name": "base",
   "language": "python",
   "name": "python3"
  },
  "language_info": {
   "codemirror_mode": {
    "name": "ipython",
    "version": 3
   },
   "file_extension": ".py",
   "mimetype": "text/x-python",
   "name": "python",
   "nbconvert_exporter": "python",
   "pygments_lexer": "ipython3",
   "version": "3.8.5 (default, Sep  4 2020, 07:30:14) \n[GCC 7.3.0]"
  },
  "orig_nbformat": 4,
  "vscode": {
   "interpreter": {
    "hash": "d4d1e4263499bec80672ea0156c357c1ee493ec2b1c70f0acce89fc37c4a6abe"
   }
  }
 },
 "nbformat": 4,
 "nbformat_minor": 2
}
